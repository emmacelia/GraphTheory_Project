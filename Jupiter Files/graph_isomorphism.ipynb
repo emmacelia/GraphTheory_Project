{
 "cells": [
  {
   "attachments": {},
   "cell_type": "markdown",
   "metadata": {},
   "source": [
    "## Graph Isomorphism Problem"
   ]
  },
  {
   "attachments": {},
   "cell_type": "markdown",
   "metadata": {},
   "source": [
    "#### Graph Theory\n",
    "Graph theory is the study of graphs which are the mathematical structures used to model pairwise relations between objects. A graph is made up of vertices called nodes which are connected by edges which are also called links."
   ]
  },
  {
   "attachments": {},
   "cell_type": "markdown",
   "metadata": {},
   "source": [
    "#### Isomorphism \n"
   ]
  },
  {
   "attachments": {},
   "cell_type": "markdown",
   "metadata": {},
   "source": [
    "#### Definition\n",
    "The graph isomorphism problem is the computational problem of determining whether two finite graphs are isomorphic. The problem cannot be solved in polynomial time and is not NP-Complete."
   ]
  }
 ],
 "metadata": {
  "kernelspec": {
   "display_name": "base",
   "language": "python",
   "name": "python3"
  },
  "language_info": {
   "name": "python",
   "version": "3.9.16"
  },
  "orig_nbformat": 4,
  "vscode": {
   "interpreter": {
    "hash": "bb7e42bfdecb3136ddb112e7a6cce8139e934a377492ede894b884924eb21343"
   }
  }
 },
 "nbformat": 4,
 "nbformat_minor": 2
}
