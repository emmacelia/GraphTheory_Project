{
 "cells": [
  {
   "attachments": {},
   "cell_type": "markdown",
   "metadata": {},
   "source": [
    "## Graph Isomorphism Problem"
   ]
  },
  {
   "attachments": {},
   "cell_type": "markdown",
   "metadata": {},
   "source": [
    "#### What is a graph \n",
    "A graph is typically a non-Linear data structure that consists of nodes and edges.\n",
    "Nodes are the single piece of data and Edges are lines connecting nodes. \n",
    "![image.png](attachment:image.png)"
   ]
  },
  {
   "attachments": {},
   "cell_type": "markdown",
   "metadata": {},
   "source": [
    "#### Isomorphism \n"
   ]
  },
  {
   "attachments": {},
   "cell_type": "markdown",
   "metadata": {},
   "source": [
    "#### Definition\n",
    "The graph isomorphism problem is the computational problem of determining whether two finite graphs are isomorphic. The problem cannot be solved in polynomial time and is not NP-Complete."
   ]
  }
 ],
 "metadata": {
  "kernelspec": {
   "display_name": "base",
   "language": "python",
   "name": "python3"
  },
  "language_info": {
   "name": "python",
   "version": "3.9.16"
  },
  "orig_nbformat": 4,
  "vscode": {
   "interpreter": {
    "hash": "bb7e42bfdecb3136ddb112e7a6cce8139e934a377492ede894b884924eb21343"
   }
  }
 },
 "nbformat": 4,
 "nbformat_minor": 2
}
